{
  "nbformat": 4,
  "nbformat_minor": 0,
  "metadata": {
    "colab": {
      "provenance": []
    },
    "kernelspec": {
      "name": "python3",
      "display_name": "Python 3"
    },
    "language_info": {
      "name": "python"
    }
  },
  "cells": [
    {
      "cell_type": "markdown",
      "source": [
        "**Question 1: What is the difference between descriptive statistics and inferential**\n",
        "**statistics? Explain with examples**.\n",
        "\n",
        "Ans **Descriptive statistics** refers to methods used to summarize and present data in a meaningful way. It deals only with the observed data and does not draw any conclusions beyond it.\n",
        "Examples: Mean, median, standard deviation\n",
        "\n",
        "**Inferential statistics** refers to techniques that allow us to make conclusions or predictions about a population based on a sample of data. It involves probability and uncertainty.\n",
        "Examples: Hypothesis testing, confidence intervals, regression, t-test, etc.\n",
        "\n",
        "**Question 2: What is sampling in statistics? Explain the differences between random and stratified sampling.**\n",
        "\n",
        "Ans Sampling is the process of selecting a subset (sample) from a larger group (population) in order to collect data and draw conclusions about the whole population.\n",
        "\n",
        "**Random Sampling:**- When performing simple random sampling every member of the population ( N ) has a equal chance of being selected for your sample (n ) **Eg : Exit poll**\n",
        "\n",
        "**Stratified Sampling** : The population is divided into groups (strata) based on some characteristics, and samples are taken from each group.\n",
        "**Eg : Household expenses { women } --> stratified sampling**\n",
        "\n",
        "**Question 3: Define mean, median, and mode. Explain why these measures of central\n",
        "tendency are important.**\n",
        "\n",
        "Ans **1. Mean:**\n",
        "The mean (or average) is the sum of all observations divided by the total number of observations.\n",
        "\n",
        "**Mean = xi/n  ; where xi=(x1+x2+x3+...+xn)**\n",
        "\n",
        "\n",
        "**2. Median:**\n",
        "The median is the middle value of the data when arranged in ascending or descending order.\n",
        "\n",
        "If the number of observations is odd → the middle value\n",
        "\n",
        "If even → the average of the two middle values\n",
        "\n",
        "**3. Mode:**\n",
        "The mode is the value that occurs most frequently in the dataset. A dataset can have no mode, one mode, or multiple modes.\n",
        "\n",
        "**Importance of Measures of Central Tendency**\n",
        "\n",
        "They summarize large data into a single representative value.\n",
        "\n",
        "They help in comparison between different datasets.\n",
        "\n",
        "They give an idea of the \"typical\" or \"average\" behavior of data.\n",
        "\n",
        "They are widely used in economics, social sciences, business, and research for decision-making.\n",
        "\n",
        "**Example: If the mean income of a city is high but the median is low, it indicates income inequality**\n",
        "\n",
        "**Question 4: Explain skewness and kurtosis. What does a positive skew imply about the data?**\n",
        "\n",
        "Ans **Skewness and Kurtosis**\n",
        "\n",
        "Skewness refers to the asymmetry in the distribution of data.\n",
        "\n",
        "Positive skew (right skew): Tail is longer on the right side\n",
        "\n",
        "Negative skew (left skew): Tail is longer on the left side\n",
        "\n",
        "**Kurtosis** measures the peakedness of a distribution compared to a normal distribution.\n",
        "\n",
        "Leptokurtic (>3): Sharp peak, heavy tails\n",
        "\n",
        "Platykurtic (<3): Flat peak, light tails\n",
        "\n",
        "Mesokurtic (=3): Normal curve\n",
        "\n",
        "**A positive skew means:**\n",
        "\n",
        "Most data values are on the left, with a few large values on the right.\n",
        "\n",
        "The mean is greater than the median.\n",
        "\n",
        "\n",
        "**Question 5: Implement a Python program to compute the mean, median, and mode of\n",
        "a given list of numbers.\n",
        "numbers = [12, 15, 12, 18, 19, 12, 20, 22, 19, 19, 24, 24, 24, 26, 28]**\n",
        "\n"
      ],
      "metadata": {
        "id": "sNdcBR75j-aq"
      }
    },
    {
      "cell_type": "code",
      "execution_count": 1,
      "metadata": {
        "colab": {
          "base_uri": "https://localhost:8080/",
          "height": 0
        },
        "id": "Hv1llqAfj9U4",
        "outputId": "934add91-70ee-44ef-9cc0-c7d7ef8c4cee"
      },
      "outputs": [
        {
          "output_type": "stream",
          "name": "stdout",
          "text": [
            "Using statistics module:\n",
            "Mean: 19.6\n",
            "Median: 19\n",
            "Mode: 12\n",
            "\n",
            "Manual Calculation:\n",
            "Mean: 19.6\n",
            "Median: 19\n",
            "Mode: 12\n"
          ]
        }
      ],
      "source": [
        "#Ans 5\n",
        "\n",
        "numbers = [12, 15, 12, 18, 19, 12, 20, 22, 19, 19, 24, 24, 24, 26, 28]\n",
        "\n",
        "\n",
        "import statistics as stats\n",
        "\n",
        "mean_val = stats.mean(numbers)\n",
        "median_val = stats.median(numbers)\n",
        "mode_val = stats.mode(numbers)\n",
        "\n",
        "print(\"Using statistics module:\")\n",
        "print(\"Mean:\", mean_val)\n",
        "print(\"Median:\", median_val)\n",
        "print(\"Mode:\", mode_val)\n",
        "\n",
        "# Manual Implementation\n",
        "\n",
        "# Mean\n",
        "mean_manual = sum(numbers) / len(numbers)\n",
        "\n",
        "# Median\n",
        "sorted_nums = sorted(numbers)\n",
        "n = len(sorted_nums)\n",
        "if n % 2 == 1:\n",
        "    median_manual = sorted_nums[n // 2]\n",
        "else:\n",
        "    median_manual = (sorted_nums[n // 2 - 1] + sorted_nums[n // 2]) / 2\n",
        "\n",
        "# Mode\n",
        "freq = {}\n",
        "for num in numbers:\n",
        "    freq[num] = freq.get(num, 0) + 1\n",
        "mode_manual = max(freq, key=freq.get)\n",
        "\n",
        "print(\"\\nManual Calculation:\")\n",
        "print(\"Mean:\", mean_manual)\n",
        "print(\"Median:\", median_manual)\n",
        "print(\"Mode:\", mode_manual)\n"
      ]
    },
    {
      "cell_type": "code",
      "source": [
        "''' Question 6: Compute the covariance and correlation coefficient between the following\n",
        "two datasets provided as lists in Python:\n",
        "list_x = [10, 20, 30, 40, 50]\n",
        "list_y = [15, 25, 35, 45, 60] '''\n",
        "\n",
        "# Ans 6\n",
        "\n",
        "import numpy as np\n",
        "\n",
        "# Given datasets\n",
        "list_x = [10, 20, 30, 40, 50]\n",
        "list_y = [15, 25, 35, 45, 60]\n",
        "\n",
        "\n",
        "x = np.array(list_x)\n",
        "y = np.array(list_y)\n",
        "\n",
        "\n",
        "covariance = np.cov(x, y)[0, 1]\n",
        "\n",
        "\n",
        "correlation = np.corrcoef(x, y)[0, 1]\n",
        "\n",
        "print(\"Covariance:\", covariance)\n",
        "print(\"Correlation Coefficient:\", correlation)\n",
        "\n"
      ],
      "metadata": {
        "colab": {
          "base_uri": "https://localhost:8080/",
          "height": 0
        },
        "id": "fyTieJbuqGNT",
        "outputId": "c4e5e173-a155-4e1d-ee64-9faea6370be9"
      },
      "execution_count": 2,
      "outputs": [
        {
          "output_type": "stream",
          "name": "stdout",
          "text": [
            "Covariance: 275.0\n",
            "Correlation Coefficient: 0.995893206467704\n"
          ]
        }
      ]
    },
    {
      "cell_type": "code",
      "source": [
        "''' Question 7: Write a Python script to draw a boxplot for the following numeric list and\n",
        "identify its outliers. Explain the result:\n",
        "data = [12, 14, 14, 15, 18, 19, 19, 21, 22, 22, 23, 23, 24, 26, 29, 35]'''\n",
        "\n",
        "\n",
        "# Ans 7\n",
        "import matplotlib.pyplot as plt\n",
        "import numpy as np\n",
        "\n",
        "data = [12, 14, 14, 15, 18, 19, 19, 21, 22, 22, 23, 23, 24, 26, 29, 35]\n",
        "\n",
        "# Create boxplot\n",
        "plt.boxplot(data)\n",
        "plt.title(\"Boxplot of Given Data\")\n",
        "plt.ylabel(\"Values\")\n",
        "plt.show()\n",
        "\n",
        "# Identifying outliers using IQR method\n",
        "Q1 = np.percentile(data, 25)\n",
        "Q3 = np.percentile(data, 75)\n",
        "IQR = Q3 - Q1\n",
        "\n",
        "lower_bound = Q1 - 1.5 * IQR\n",
        "upper_bound = Q3 + 1.5 * IQR\n",
        "\n",
        "outliers = [x for x in data if x < lower_bound or x > upper_bound]\n",
        "\n",
        "print(\"Outliers:\", outliers)\n"
      ],
      "metadata": {
        "colab": {
          "base_uri": "https://localhost:8080/",
          "height": 470
        },
        "id": "VXvKFYjqqfo2",
        "outputId": "54fb7453-d8cd-472d-c751-41bca7750665"
      },
      "execution_count": 4,
      "outputs": [
        {
          "output_type": "display_data",
          "data": {
            "text/plain": [
              "<Figure size 640x480 with 1 Axes>"
            ],
            "image/png": "[encoded data removed]"
          },
          "metadata": {}
        },
        {
          "output_type": "stream",
          "name": "stdout",
          "text": [
            "Outliers: [35]\n"
          ]
        }
      ]
    },
    {
      "cell_type": "code",
      "source": [
        "'''Question 8: You are working as a data analyst in an e-commerce company. The\n",
        "marketing team wants to know if there is a relationship between advertising spend and\n",
        "daily sales.\n",
        "● Explain how you would use covariance and correlation to explore this\n",
        "relationship.\n",
        "● Write Python code to compute the correlation between the two lists:\n",
        "advertising_spend = [200, 250, 300, 400, 500]\n",
        "daily_sales = [2200, 2450, 2750, 3200, 4000]'''\n",
        "\n",
        "# Ans 8\n",
        "\n",
        "'''Covariance\n",
        "\n",
        "It measures whether two variables move together.\n",
        "\n",
        "Positive covariance → when advertising spend increases, sales also increase.\n",
        "\n",
        "Negative covariance → higher spending leads to lower sales.\n",
        "\n",
        "However, covariance does not show the strength of the relationship.\n",
        "\n",
        "Correlation Coefficient (Pearson’s r)\n",
        "\n",
        "It measures both direction and strength of the relationship.\n",
        "\n",
        "Its value ranges from -1 to +1:\n",
        "\n",
        "+1 → perfect positive correlation\n",
        "\n",
        "0 → no correlation\n",
        "\n",
        "-1 → perfect negative correlation\n",
        "\n",
        "In this case, a high positive correlation would suggest higher ad spend leads to more sales.'''\n",
        "\n",
        "import numpy as np\n",
        "\n",
        "advertising_spend = [200, 250, 300, 400, 500]\n",
        "daily_sales = [2200, 2450, 2750, 3200, 4000]\n",
        "\n",
        "# Convert to numpy arrays\n",
        "x = np.array(advertising_spend)\n",
        "y = np.array(daily_sales)\n",
        "\n",
        "# Calculate correlation coefficient\n",
        "correlation = np.corrcoef(x, y)[0, 1]\n",
        "\n",
        "print(\"Correlation Coefficient:\", correlation)\n",
        "\n"
      ],
      "metadata": {
        "colab": {
          "base_uri": "https://localhost:8080/",
          "height": 0
        },
        "id": "8tGoAovoq0A-",
        "outputId": "2b2fbc4c-9199-4dc4-b685-c2e8275a1e0c"
      },
      "execution_count": 5,
      "outputs": [
        {
          "output_type": "stream",
          "name": "stdout",
          "text": [
            "Correlation Coefficient: 0.9935824101653329\n"
          ]
        }
      ]
    },
    {
      "cell_type": "code",
      "source": [
        "'''Question 9: Your team has collected customer satisfaction survey data on a scale of\n",
        "1-10 and wants to understand its distribution before launching a new product.\n",
        "● Explain which summary statistics and visualizations (e.g. mean, standard\n",
        "deviation, histogram) you’d use.\n",
        "● Write Python code to create a histogram using Matplotlib for the survey data:\n",
        "survey_scores = [7, 8, 5, 9, 6, 7, 8, 9, 10, 4, 7, 6, 9, 8, 7] '''\n",
        "\n",
        "# Ans 9 1. Summary Statistics:\n",
        "\n",
        "# Mean → Average satisfaction score.\n",
        "\n",
        "# Median → Middle value to see central tendency.\n",
        "\n",
        "# Mode → Most frequent score.\n",
        "\n",
        "# Standard Deviation (SD) → How much the scores vary from the mean.\n",
        "\n",
        "# Minimum & Maximum → Range of responses.\n",
        "\n",
        "# 2. Visualizations:\n",
        "\n",
        "# Histogram → Shows how scores are distributed across the scale (1–10).\n",
        "\n",
        "# Boxplot → Can reveal outliers or skewness.\n",
        "\n",
        "# These help determine if most customers are satisfied, neutral, or dissatisfied.\n",
        "\n",
        "import matplotlib.pyplot as plt\n",
        "\n",
        "survey_scores = [7, 8, 5, 9, 6, 7, 8, 9, 10, 4, 7, 6, 9, 8, 7]\n",
        "\n",
        "# Create histogram\n",
        "plt.hist(survey_scores, bins=range(1, 12), edgecolor='black', alpha=0.7)\n",
        "plt.title(\"Histogram of Customer Satisfaction Scores\")\n",
        "plt.xlabel(\"Score\")\n",
        "plt.ylabel(\"Frequency\")\n",
        "plt.xticks(range(1, 11))\n",
        "plt.show()\n"
      ],
      "metadata": {
        "colab": {
          "base_uri": "https://localhost:8080/",
          "height": 472
        },
        "id": "GrMQTQe4rVxx",
        "outputId": "c9b9ee1e-6e20-4e95-e738-eeb6d245e5b5"
      },
      "execution_count": 6,
      "outputs": [
        {
          "output_type": "display_data",
          "data": {
            "text/plain": [
              "<Figure size 640x480 with 1 Axes>"
            ],
            "image/png": "[encoded data removed]"
          },
          "metadata": {}
        }
      ]
    }
  ]
}